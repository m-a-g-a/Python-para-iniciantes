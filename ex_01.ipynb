{
 "cells": [
  {
   "cell_type": "markdown",
   "metadata": {},
   "source": [
    "<h1 style=\"font-size:3rem;color:green;\">PYTHON PARA TODOS"
   ]
  },
  {
   "cell_type": "markdown",
   "metadata": {},
   "source": [
    "<h1 style=\"font-size:1.5rem;color:black;\">Comandos rstrip e split"
   ]
  },
  {
   "cell_type": "markdown",
   "metadata": {},
   "source": [
    "rstrip: remove espaços em branco ou caracteres indesejados do início e fim da palavra (string)\n",
    "rsplit: separa o texto em uma lista utilizando um caracter, normalmente a vírgula, ou espaço como separador.\n",
    "Abaixo, um exemplo simples você pode brincar com o programa, trocando as palavras e caracteres que estão entre \"aspas e em vermelho\" para entender como os comandos funcionam."
   ]
  },
  {
   "cell_type": "markdown",
   "metadata": {},
   "source": [
    "<h1 style=\"font-size:1rem;color:black;\">1.Limpando e separando um texto em lista"
   ]
  },
  {
   "cell_type": "code",
   "execution_count": null,
   "metadata": {},
   "outputs": [],
   "source": [
    "txt = \"banana,,,,,ssqqqww.....\"\n",
    "\n",
    "x = txt.rstrip(\".wq\")\n",
    "y=txt.split('s')\n",
    "print(x)\n",
    "print(y)"
   ]
  },
  {
   "cell_type": "markdown",
   "metadata": {},
   "source": [
    "<h1 style=\"font-size:1rem;color:black;\">2.Lendo um arquivo de texto externo, separando em uma lista e alocando em um dicionário"
   ]
  },
  {
   "cell_type": "markdown",
   "metadata": {},
   "source": [
    "Para abrir um arquivo utiliza-se o comando 'open', como por exemplo, 'open(\"caminho_para_o_arquivo\", \"modo\")'\n",
    "\n",
    "caminho_para_o_arquivo: especifica o endereço para o arquivo que se quer abrir.Se o arquivo estiver na mesma pasta do programa, basta especificar o nome do arquivo. Caso contrário, você precisa especificar o caminho para o arquivo.\n",
    "modo: é um parâmetro opcional que especifica em que modo você quer abrir o arquivo, leitura [reading,r], edição [writing, w] ou anexação [appending,a]. \n",
    "\n",
    "Os dicionários 'dict()' são usados para armazenar valores de dados em pares chave:valor.\n",
    "\n",
    "Um dicionário é uma coleção ordenada, mutável e que não permite duplicatas"
   ]
  },
  {
   "cell_type": "code",
   "execution_count": null,
   "metadata": {},
   "outputs": [],
   "source": [
    "arquivo ='palhaço.txt'      #conta para o programa onde está o arquivo\n",
    "texto = open(arquivo,'r') #abre o arquivo no modo leitura outra forma de fazer isto mais diretametne seria 'open('clown.txt','r')\n",
    "contagem=dict()           #cria um dicionário chamado 'contagem'\n",
    "\n",
    "for linha in texto:\n",
    "    palavras=linha.split() #separa o texto em palavras delimitadas por um espaço em branco\n",
    "    print(palavras)        #imprime a lista de palavras contida no dicionário contagem   "
   ]
  },
  {
   "cell_type": "markdown",
   "metadata": {},
   "source": [
    "<h1 style=\"font-size:1rem;color:black;\">3.Contando as palavras"
   ]
  },
  {
   "cell_type": "code",
   "execution_count": null,
   "metadata": {},
   "outputs": [],
   "source": [
    "arquivo ='palhaço.txt'      #conta para o programa onde está o arquivo\n",
    "texto = open(arquivo,'r') #abre o arquivo no modo leitura outra forma de fazer isto mais diretametne seria 'open('clown.txt','r')\n",
    "contagem=dict()           #cria um dicionário chamado 'contagem'\n",
    "\n",
    "for linha in texto:\n",
    "    palavras=linha.split()\n",
    "    for palavra in palavras:\n",
    "        contagem[palavra]=contagem.get(palavra,0)+1\n",
    "        print(contagem)"
   ]
  },
  {
   "cell_type": "markdown",
   "metadata": {},
   "source": [
    "<h1 style=\"font-size:1rem;color:black;\">4.Encontrando a palavra que aparece mais vezes no texto"
   ]
  },
  {
   "cell_type": "code",
   "execution_count": null,
   "metadata": {},
   "outputs": [],
   "source": [
    "arquivo ='palhaço.txt'      #conta para o programa onde está o arquivo\n",
    "texto = open(arquivo,'r') #abre o arquivo no modo leitura outra forma de fazer isto mais diretametne seria 'open('clown.txt','r')\n",
    "contagem=dict()           #cria um dicionário chamado 'contagem\n",
    "\n",
    "for linha in texto:\n",
    "    palavras=linha.split()\n",
    "    for palavra in palavras:\n",
    "        contagem[palavra]=contagem.get(palavra,0)+1\n",
    "maiorcontagem=None\n",
    "maiorpalavra=None\n",
    "for palavra,contagem in list(contagem.items()):\n",
    "    if maiorcontagem is None or contagem>maiorcontagem:\n",
    "        maiorpalavra=palavra\n",
    "        maiorcontagem=contagem\n",
    "        \n",
    "print(maiorpalavra, maiorcontagem)       "
   ]
  }
 ],
 "metadata": {
  "kernelspec": {
   "display_name": "Python 3",
   "language": "python",
   "name": "python3"
  },
  "language_info": {
   "codemirror_mode": {
    "name": "ipython",
    "version": 3
   },
   "file_extension": ".py",
   "mimetype": "text/x-python",
   "name": "python",
   "nbconvert_exporter": "python",
   "pygments_lexer": "ipython3",
   "version": "3.7.6"
  }
 },
 "nbformat": 4,
 "nbformat_minor": 4
}
